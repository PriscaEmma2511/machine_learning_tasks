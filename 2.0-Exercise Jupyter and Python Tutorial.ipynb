{
 "cells": [
  {
   "cell_type": "markdown",
   "metadata": {},
   "source": [
    "Ensure you are using Python 3.0 and above\n",
    "\n",
    "Make sure you fill in any place that says `YOUR CODE HERE` or \"YOUR ANSWER HERE\". Delete the 'raise NotImplementedError()' once you write your code there"
   ]
  },
  {
   "cell_type": "code",
   "execution_count": 76,
   "metadata": {
    "deletable": false,
    "editable": false,
    "nbgrader": {
     "checksum": "97c2d5b538162e1e7b7d50e0c9917ff5",
     "grade": false,
     "grade_id": "cell-2db564b1f4bb5965",
     "locked": true,
     "schema_version": 1,
     "solution": false
    }
   },
   "outputs": [],
   "source": [
    "import IPython\n",
    "assert IPython.version_info[0] >= 3, \"Your version of IPython is too old, please update it.\""
   ]
  },
  {
   "cell_type": "markdown",
   "metadata": {},
   "source": [
    "### Complete the following Python exercises and submit the notebook on class folder"
   ]
  },
  {
   "cell_type": "code",
   "execution_count": 102,
   "metadata": {},
   "outputs": [
    {
     "name": "stdout",
     "output_type": "stream",
     "text": [
      "Requirement already satisfied: nose in c:\\users\\prisca makidika\\anaconda3\\lib\\site-packages (1.3.7)\n",
      "Note: you may need to restart the kernel to use updated packages.\n"
     ]
    }
   ],
   "source": [
    "pip install nose"
   ]
  },
  {
   "cell_type": "code",
   "execution_count": 103,
   "metadata": {
    "deletable": false,
    "editable": false,
    "nbgrader": {
     "checksum": "c5b1619e75145b28250ff6f0bca6508b",
     "grade": false,
     "grade_id": "cell-357d7836b104559b",
     "locked": true,
     "schema_version": 1,
     "solution": false
    }
   },
   "outputs": [],
   "source": [
    "# Imports\n",
    "import numpy as np\n",
    "from nose.tools import *\n",
    "import IPython\n",
    "assert IPython.version_info[0] >= 3, \"Your version of IPython is too old, please update it.\""
   ]
  },
  {
   "cell_type": "markdown",
   "metadata": {},
   "source": [
    "### Part A - Python stuff"
   ]
  },
  {
   "cell_type": "markdown",
   "metadata": {},
   "source": [
    "#### Question 1\n",
    "Write a function that adds two numbers together. If the numbers result in decimals, make sure that they are rounded off to 2 significant decimals, i.e. 23.1234 + 12.4321 = 35.56"
   ]
  },
  {
   "cell_type": "code",
   "execution_count": 2,
   "metadata": {
    "deletable": false,
    "nbgrader": {
     "checksum": "f176d7b717e0826ae367803444c80728",
     "grade": false,
     "grade_id": "cell-cb3cad34e6f02386",
     "locked": false,
     "schema_version": 1,
     "solution": true
    }
   },
   "outputs": [
    {
     "name": "stdout",
     "output_type": "stream",
     "text": [
      "23.1234 + 12.4321 = 35.56\n"
     ]
    }
   ],
   "source": [
    "# warm up\n",
    "def add_two_numbers(x, y):\n",
    "\n",
    " # Add the two numbers\n",
    " sum = x + y\n",
    "\n",
    " # Round the sum to 2 significant decimals\n",
    " rounded_sum = round(sum, 2)\n",
    "\n",
    " return rounded_sum\n",
    "\n",
    "# Example usage\n",
    "x = 23.1234\n",
    "y = 12.4321\n",
    "sum = add_two_numbers(x, y)\n",
    "\n",
    "print(f\"{x} + {y} = {sum}\")  # Output: 23.1234 + 12.4321 = 35.56\n"
   ]
  },
  {
   "cell_type": "code",
   "execution_count": 104,
   "metadata": {
    "deletable": false,
    "editable": false,
    "nbgrader": {
     "checksum": "acb27db3f8043df2f54e21f9f81b6c6d",
     "grade": true,
     "grade_id": "cell-38e9dccd85269c70",
     "locked": true,
     "points": 3,
     "schema_version": 1,
     "solution": false
    }
   },
   "outputs": [],
   "source": [
    "# Run tests\n",
    "assert_equal(add_two_numbers(34.257, 42.936), 77.19)"
   ]
  },
  {
   "cell_type": "markdown",
   "metadata": {},
   "source": [
    "#### Question 2\n",
    "Complete this function to provide the cummulative sum of the first N numbers. The numbers should be counted from 1,2,.... Tip: You may want to look at the range function of Python.\n",
    "E.g. function(4) = 1+2+3+4 = 10\n",
    "\n",
    "Add an additional check - if the number N provided is outside an acceptable range, return 0. The acceptable range is 0 - 200 inclusive (i.e. it includes 0 and 200)"
   ]
  },
  {
   "cell_type": "code",
   "execution_count": 109,
   "metadata": {
    "deletable": false,
    "nbgrader": {
     "checksum": "331e1a0a44d9630a0db845ac6b47ef3e",
     "grade": false,
     "grade_id": "cell-ddc6a0cd82f6d7db",
     "locked": false,
     "schema_version": 1,
     "solution": true
    }
   },
   "outputs": [],
   "source": [
    "def sum_first_N_numbers(N):\n",
    "    \n",
    "    if N < 0 or N > 200:\n",
    "        return 0\n",
    "    else:\n",
    "        return sum(range(1, N+1))"
   ]
  },
  {
   "cell_type": "code",
   "execution_count": 110,
   "metadata": {
    "deletable": false,
    "editable": false,
    "nbgrader": {
     "checksum": "ebc4f7dd6fbcce9868c78647e6d5f34d",
     "grade": true,
     "grade_id": "cell-34d1aba5d7cc55d8",
     "locked": true,
     "points": 2,
     "schema_version": 1,
     "solution": false
    }
   },
   "outputs": [],
   "source": [
    "# Tests 1\n",
    "assert_equal(sum_first_N_numbers(4), 10)"
   ]
  },
  {
   "cell_type": "code",
   "execution_count": 111,
   "metadata": {
    "deletable": false,
    "editable": false,
    "nbgrader": {
     "checksum": "68dd61f6c09ee516d5835b0e8069b131",
     "grade": true,
     "grade_id": "cell-93e0ff65d1eab080",
     "locked": true,
     "points": 2,
     "schema_version": 1,
     "solution": false
    }
   },
   "outputs": [],
   "source": [
    "# Tests 2\n",
    "assert_equal(sum_first_N_numbers(0), 0)"
   ]
  },
  {
   "cell_type": "code",
   "execution_count": 112,
   "metadata": {
    "deletable": false,
    "editable": false,
    "nbgrader": {
     "checksum": "9e4f1efb206371510de20b8babcda9b4",
     "grade": true,
     "grade_id": "cell-a9ade0586e328717",
     "locked": true,
     "points": 3,
     "schema_version": 1,
     "solution": false
    }
   },
   "outputs": [],
   "source": [
    "# Tests 3\n",
    "assert_equal(sum_first_N_numbers(300), 0)"
   ]
  },
  {
   "cell_type": "markdown",
   "metadata": {},
   "source": [
    "#### Question 3\n",
    "Write a function to calculate the mean of a list of numbers. Numbers should be rounded off to 2 significant decimals if they are decimal numbers\n",
    "\n",
    "E.g. function([2,2,2,2]) = 2"
   ]
  },
  {
   "cell_type": "code",
   "execution_count": 113,
   "metadata": {
    "deletable": false,
    "nbgrader": {
     "checksum": "62e86df1395570e610223e8ca7c36975",
     "grade": false,
     "grade_id": "cell-6a114e8a16020116",
     "locked": false,
     "schema_version": 1,
     "solution": true
    }
   },
   "outputs": [],
   "source": [
    "def get_mean(x):\n",
    "    # Function should get the mean of a list of numbers x\n",
    "    # i.e. if x = [1,2,3], get_mean(x) = 2\n",
    "     # YOUR CODE HERE\n",
    "        # Check if the list is empty\n",
    "  if not x:\n",
    "    return None\n",
    "\n",
    "  # Calculate the sum of the numbers\n",
    "  sum_of_numbers = 0\n",
    "  for number in x:\n",
    "    sum_of_numbers += number\n",
    "\n",
    "  # Calculate the average\n",
    "  average = sum_of_numbers / len(x)\n",
    "\n",
    "  # Round the average to 2 significant decimals if it's a decimal number\n",
    "  if isinstance(average, float):\n",
    "    average = round(average, 2)\n",
    "\n",
    "  return average"
   ]
  },
  {
   "cell_type": "code",
   "execution_count": 114,
   "metadata": {
    "deletable": false,
    "editable": false,
    "nbgrader": {
     "checksum": "538e0ae15ae19e99cd1b7384cdcf84b5",
     "grade": true,
     "grade_id": "cell-bb8d92f5fdb244ec",
     "locked": true,
     "points": 2,
     "schema_version": 1,
     "solution": false
    }
   },
   "outputs": [],
   "source": [
    "# Tests 1\n",
    "assert_equal(get_mean([2,3,4,5]), 3.5)"
   ]
  },
  {
   "cell_type": "markdown",
   "metadata": {},
   "source": [
    "#### Question 4\n",
    "Complete the function to get the power of a number. Ensure that if it is a decimal number it is rounded off to 3 (THREE) decimal places. \n",
    "\n",
    "E.g. function(3,2) = 9"
   ]
  },
  {
   "cell_type": "code",
   "execution_count": 115,
   "metadata": {
    "deletable": false,
    "nbgrader": {
     "checksum": "ca0f1f6b1950f16565a99500151249e8",
     "grade": false,
     "grade_id": "cell-0d560c78a3ca2566",
     "locked": false,
     "schema_version": 1,
     "solution": true
    }
   },
   "outputs": [],
   "source": [
    "def get_i_power(x, i):\n",
    "    # Get x to the power i\n",
    "    # E.g. get_i_power(2,3) = 8\n",
    "    # YOUR CODE HERE\n",
    " # Calculate the power\n",
    " power = x ** i\n",
    "\n",
    " # Round the result to 3 decimal places if it's a decimal\n",
    " if isinstance(power, float):\n",
    "   power = round(power, 3)\n",
    "\n",
    " return power"
   ]
  },
  {
   "cell_type": "code",
   "execution_count": 116,
   "metadata": {
    "deletable": false,
    "editable": false,
    "nbgrader": {
     "checksum": "98febda69272474c87f006a2ce156625",
     "grade": true,
     "grade_id": "cell-154da60daea46d99",
     "locked": true,
     "points": 2,
     "schema_version": 1,
     "solution": false
    }
   },
   "outputs": [],
   "source": [
    "# Test 1\n",
    "assert_equal(get_i_power(3,2), 9)"
   ]
  },
  {
   "cell_type": "code",
   "execution_count": 117,
   "metadata": {
    "deletable": false,
    "editable": false,
    "nbgrader": {
     "checksum": "0e4fd0bf39412caabac00a4c23f61fed",
     "grade": true,
     "grade_id": "cell-52043c6a51a27e2c",
     "locked": true,
     "points": 3,
     "schema_version": 1,
     "solution": false
    }
   },
   "outputs": [],
   "source": [
    "# Tests 2\n",
    "assert_equal(get_i_power(2.6,5), 118.814)"
   ]
  },
  {
   "cell_type": "markdown",
   "metadata": {},
   "source": [
    "#### Question 5\n",
    "Write a function to reverse a string.\n",
    "\n",
    "E.g. function('Mountain') = 'niatnuoM'"
   ]
  },
  {
   "cell_type": "code",
   "execution_count": 118,
   "metadata": {
    "deletable": false,
    "nbgrader": {
     "checksum": "4200abb9b0a88cc8d8865046c3e27f35",
     "grade": false,
     "grade_id": "cell-afe0b2a267eede6f",
     "locked": false,
     "schema_version": 1,
     "solution": true
    }
   },
   "outputs": [
    {
     "name": "stdout",
     "output_type": "stream",
     "text": [
      "The reversed string is: niatnuoM\n"
     ]
    }
   ],
   "source": [
    "def reverse_string(s):\n",
    "    # Reverse string s\n",
    "    # E.g. reverse_string('Mountain') = 'ureM tnuoM'\n",
    "    \n",
    "     # Create an empty string to store the reversed characters\n",
    "  reversed_string = \"\"\n",
    "\n",
    "  # Loop through the string in reverse order and add each character to the reversed string\n",
    "  for i in range(len(s) - 1, -1, -1):\n",
    "    reversed_string += s[i]\n",
    "\n",
    "  return reversed_string\n",
    "\n",
    "# Example usage\n",
    "string = \"Mountain\"\n",
    "reversed_string = reverse_string(string)\n",
    "\n",
    "print(f\"The reversed string is: {reversed_string}\")  # Output: The reversed string is: niatnuoM"
   ]
  },
  {
   "cell_type": "code",
   "execution_count": 119,
   "metadata": {
    "deletable": false,
    "editable": false,
    "nbgrader": {
     "checksum": "b30d9679ed7ee73e8664578c72b3985d",
     "grade": true,
     "grade_id": "cell-dfceb8f1cbacebb3",
     "locked": true,
     "points": 3,
     "schema_version": 1,
     "solution": false
    }
   },
   "outputs": [],
   "source": [
    "# Test 1\n",
    "assert_equal(reverse_string('Mount Meru'), 'ureM tnuoM')"
   ]
  },
  {
   "cell_type": "markdown",
   "metadata": {},
   "source": [
    "#### Question 6\n",
    "Given the assignment_dates list, can you return the days from this string\n",
    "\n",
    "E.g. function(assignment_dates) = ['Friday', 'Saturday', 'Sunday']"
   ]
  },
  {
   "cell_type": "code",
   "execution_count": 120,
   "metadata": {
    "deletable": false,
    "nbgrader": {
     "checksum": "33095efb33c557488c71ef5bd8a08540",
     "grade": false,
     "grade_id": "cell-63604151c8149a01",
     "locked": false,
     "schema_version": 1,
     "solution": true
    }
   },
   "outputs": [],
   "source": [
    "def get_days(date_list):\n",
    " \n",
    "\n",
    "  days = []\n",
    "  for date_string in date_list:\n",
    "    # Split the date string by spaces to get a list of words\n",
    "    words = date_string.split()\n",
    "\n",
    "    # Extract the first word, which is the day\n",
    "    day = words[0]\n",
    "\n",
    "    # Add the day to the list of days\n",
    "    days.append(day)\n",
    "\n",
    "  return days\n",
    "\n",
    "\n"
   ]
  },
  {
   "cell_type": "code",
   "execution_count": 121,
   "metadata": {
    "deletable": false,
    "editable": false,
    "nbgrader": {
     "checksum": "c5716dfccd9f13183cfa31238afeb89d",
     "grade": true,
     "grade_id": "cell-4551b5f0d1528d7c",
     "locked": true,
     "points": 3,
     "schema_version": 1,
     "solution": false
    }
   },
   "outputs": [],
   "source": [
    "# Test 1\n",
    "assignment_dates = ['Friday 27 Jan 2017', 'Saturday 12 March 2016', 'Sunday 3 October 2015']\n",
    "assert_equal(get_days(assignment_dates), ['Friday', 'Saturday', 'Sunday'])"
   ]
  },
  {
   "cell_type": "code",
   "execution_count": 122,
   "metadata": {
    "deletable": false,
    "editable": false,
    "nbgrader": {
     "checksum": "d19aa0710c66513a47e2c197c231728d",
     "grade": true,
     "grade_id": "cell-d83aee453ba53d9f",
     "locked": true,
     "points": 3,
     "schema_version": 1,
     "solution": false
    }
   },
   "outputs": [],
   "source": [
    "assignment_dates2 = ['Monday 17 Jan 2017', 'Tuesday 1 March 2016', 'Wednesday 30 October 2015']\n",
    "assert_equal(get_days(assignment_dates2), ['Monday', 'Tuesday', 'Wednesday'])"
   ]
  },
  {
   "cell_type": "code",
   "execution_count": 123,
   "metadata": {
    "deletable": false,
    "editable": false,
    "nbgrader": {
     "checksum": "6e7e27d68fd506a486110e32bc37e1c3",
     "grade": true,
     "grade_id": "cell-2bc2d51ae2e141ca",
     "locked": true,
     "points": 2,
     "schema_version": 1,
     "solution": false
    }
   },
   "outputs": [],
   "source": [
    "# Tests 3\n",
    "assignment_dates3 = ['Thursday 27 Jan 2017']\n",
    "assert_equal(get_days(assignment_dates3), ['Thursday'])"
   ]
  },
  {
   "cell_type": "markdown",
   "metadata": {},
   "source": [
    "#### Question 7\n",
    "Complete the get_day_numbers function to return the INTEGER values for the numbers in the date\n",
    "\n",
    "E.g. get_day_numbers(['Tue 23 April 2017']) = [23]"
   ]
  },
  {
   "cell_type": "code",
   "execution_count": 131,
   "metadata": {
    "deletable": false,
    "nbgrader": {
     "checksum": "98bbca85922964a2f1a743f3b4c7dce7",
     "grade": false,
     "grade_id": "cell-9899e00775c1dc99",
     "locked": false,
     "schema_version": 1,
     "solution": true
    }
   },
   "outputs": [],
   "source": [
    "def get_day_numbers(dates):\n",
    "    day_numbers = []\n",
    "    for date in dates:\n",
    "        day_number = int(date.split()[1])\n",
    "        day_numbers.append(day_number)\n",
    "    return day_numbers\n"
   ]
  },
  {
   "cell_type": "code",
   "execution_count": 132,
   "metadata": {
    "deletable": false,
    "editable": false,
    "nbgrader": {
     "checksum": "351c9304ac00ba9c27ff93b762003fe1",
     "grade": true,
     "grade_id": "cell-01861b730dc74d86",
     "locked": true,
     "points": 4,
     "schema_version": 1,
     "solution": false
    }
   },
   "outputs": [],
   "source": [
    "# Test1\n",
    "assignment_dates = ['Friday 27 Jan 2017', 'Saturday 12 March 2016', 'Sunday 3 October 2015']\n",
    "assert_equal(get_day_numbers(assignment_dates), [27, 12, 3])"
   ]
  },
  {
   "cell_type": "code",
   "execution_count": 133,
   "metadata": {
    "deletable": false,
    "editable": false,
    "nbgrader": {
     "checksum": "1168b911eb557a024b05de947983eb62",
     "grade": true,
     "grade_id": "cell-826206bbf3aa056f",
     "locked": true,
     "points": 3,
     "schema_version": 1,
     "solution": false
    }
   },
   "outputs": [],
   "source": [
    "# Test2\n",
    "assignment_dates2 = ['Monday 17 Jan 2017', 'Tuesday 1 March 2016', 'Wednesday 30 October 2015']\n",
    "assert_equal(get_day_numbers(assignment_dates2), [17, 1, 30])"
   ]
  },
  {
   "cell_type": "markdown",
   "metadata": {},
   "source": [
    "#### Question 8\n",
    "Complete the function to get the year in the date. Make sure this stays a string not an Integer"
   ]
  },
  {
   "cell_type": "code",
   "execution_count": 124,
   "metadata": {
    "deletable": false,
    "nbgrader": {
     "checksum": "dd27e5fc295c3e1cc443f0117f99e1dd",
     "grade": false,
     "grade_id": "cell-d8fcc99e93e8e654",
     "locked": false,
     "schema_version": 1,
     "solution": true
    }
   },
   "outputs": [],
   "source": [
    "def get_years(date_list):\n",
    "    # Return years in the date list\n",
    "    # Use the assigment_dates as a testing list\n",
    "\n",
    "  years = []\n",
    "  for date_string in date_list:\n",
    "    # Split the date string by spaces to get a list of words\n",
    "    words = date_string.split()\n",
    "\n",
    "    # Extract the last word, which is the year\n",
    "    year = words[-1]\n",
    "\n",
    "    # Add the year to the list of years\n",
    "    years.append(year)\n",
    "\n",
    "  return years\n",
    "\n",
    "# Test cases\n",
    "assignment_dates = ['Friday 27 Jan 2017', 'Saturday 12 March 2016', 'Sunday 3 October 2015']\n",
    "expected_years = ['2017', '2016', '2015']\n",
    "\n",
    "assert get_years(assignment_dates) == expected_years\n",
    "\n",
    "assignment_dates2 = ['Monday 17 Jan 2017', 'Tuesday 1 March 2016', 'Wednesday 30 October 2015']\n",
    "expected_years2 = ['2017', '2016', '2015']\n",
    "\n",
    "assert get_years(assignment_dates2) == expected_years2\n",
    "\n"
   ]
  },
  {
   "cell_type": "code",
   "execution_count": 125,
   "metadata": {
    "deletable": false,
    "editable": false,
    "nbgrader": {
     "checksum": "e91589083c0ffc3878d607910b32f30d",
     "grade": true,
     "grade_id": "cell-5f711d8c81943397",
     "locked": true,
     "points": 3,
     "schema_version": 1,
     "solution": false
    }
   },
   "outputs": [],
   "source": [
    "# Test1\n",
    "assignment_dates = ['Friday 27 Jan 2017', 'Saturday 12 March 2016', 'Sunday 3 October 2015']\n",
    "assert_equal(get_years(assignment_dates), ['2017', '2016', '2015'])"
   ]
  },
  {
   "cell_type": "code",
   "execution_count": 126,
   "metadata": {
    "deletable": false,
    "editable": false,
    "nbgrader": {
     "checksum": "c6b0bb74ae5904c1fa4bb18230da72dd",
     "grade": true,
     "grade_id": "cell-6f005e652741f3ff",
     "locked": true,
     "points": 3,
     "schema_version": 1,
     "solution": false
    }
   },
   "outputs": [],
   "source": [
    "# Test2\n",
    "assignment_dates4 = ['Monday 17 Jan 2000', 'Tuesday 1 March 1998', 'Wednesday 30 October 2043']\n",
    "assert_equal(get_years(assignment_dates4), ['2000', '1998', '2043'])"
   ]
  },
  {
   "cell_type": "markdown",
   "metadata": {},
   "source": [
    "### Part B: Numpy"
   ]
  },
  {
   "cell_type": "markdown",
   "metadata": {},
   "source": [
    "Consider the array below"
   ]
  },
  {
   "cell_type": "code",
   "execution_count": null,
   "metadata": {},
   "outputs": [],
   "source": [
    "a = np.random.rand(4,5)\n",
    "a"
   ]
  },
  {
   "cell_type": "markdown",
   "metadata": {},
   "source": [
    "1. Generate an array called `ans1` comprising only the 2nd to 4th columns\n",
    "2. Generate an array called `ans2` of just the 1st to 3rd columns and the 2nd to 3rd rows\n",
    "3. What is the mean and standard deviation of the rows in array a (Name them `arows_mean`, `arows_sd`)\n",
    "4. Calculate the mean and variance of the columns in array a (Name them `acols_mean`, `acols_var`)"
   ]
  },
  {
   "cell_type": "code",
   "execution_count": 49,
   "metadata": {
    "deletable": false,
    "nbgrader": {
     "checksum": "ea4b7808963cca71c3646b3e16b339ea",
     "grade": true,
     "grade_id": "cell-46900ace5babb8cf",
     "locked": false,
     "points": 2,
     "schema_version": 1,
     "solution": true
    }
   },
   "outputs": [
    {
     "name": "stdout",
     "output_type": "stream",
     "text": [
      "[[0.74010852 0.68219779 0.50436862]\n",
      " [0.73318688 0.83967231 0.72008769]\n",
      " [0.61016501 0.68828937 0.85783   ]\n",
      " [0.9767897  0.87487967 0.40321514]]\n"
     ]
    }
   ],
   "source": [
    "# YOUR CODE HERE\n",
    "import numpy as np\n",
    "\n",
    "# Define the random array\n",
    "a = np.random.rand(4, 5)\n",
    "\n",
    "# Create ans1 with columns 2 to 4 (inclusive)\n",
    "ans1 = a[:, 1:4]\n",
    "\n",
    "# Print ans1\n",
    "print(ans1)\n"
   ]
  },
  {
   "cell_type": "code",
   "execution_count": 50,
   "metadata": {
    "deletable": false,
    "nbgrader": {
     "checksum": "6f120b50984e86be99347fc022522e04",
     "grade": true,
     "grade_id": "cell-b0c5638d712fc18e",
     "locked": false,
     "points": 2,
     "schema_version": 1,
     "solution": true
    }
   },
   "outputs": [
    {
     "name": "stdout",
     "output_type": "stream",
     "text": [
      "[[0.19124525 0.37656688]\n",
      " [0.89308143 0.5804283 ]\n",
      " [0.99563973 0.34984484]]\n"
     ]
    }
   ],
   "source": [
    "# YOUR CODE HERE\n",
    "import numpy as np\n",
    "\n",
    "# Create the array\n",
    "a = np.random.rand(4, 5)\n",
    "\n",
    "# Extract the desired portion using slicing\n",
    "ans2 = a[1:4, 1:3]\n",
    "\n",
    "print(ans2)\n"
   ]
  },
  {
   "cell_type": "code",
   "execution_count": 51,
   "metadata": {
    "deletable": false,
    "nbgrader": {
     "checksum": "9c1ba2b9525e99f1d6078548b1b8067e",
     "grade": true,
     "grade_id": "cell-8e3b647ae1383de4",
     "locked": false,
     "points": 5,
     "schema_version": 1,
     "solution": true
    }
   },
   "outputs": [
    {
     "name": "stdout",
     "output_type": "stream",
     "text": [
      "Mean of each row: [0.42905629 0.55443014 0.51589376 0.45100846]\n",
      "Standard deviation of each row: [0.29307055 0.29811404 0.18613789 0.23195762]\n"
     ]
    }
   ],
   "source": [
    "# YOUR CODE HERE\n",
    "import numpy as np\n",
    "\n",
    "# Generate a random 4x5 array\n",
    "a = np.random.rand(4, 5)\n",
    "\n",
    "# Calculate mean and standard deviation of each row\n",
    "arows_mean = np.mean(a, axis=1)\n",
    "arows_sd = np.std(a, axis=1)\n",
    "\n",
    "# Print the results\n",
    "print(\"Mean of each row:\", arows_mean)\n",
    "print(\"Standard deviation of each row:\", arows_sd)\n"
   ]
  },
  {
   "cell_type": "code",
   "execution_count": 52,
   "metadata": {
    "deletable": false,
    "nbgrader": {
     "checksum": "b34a612001deadeeca72ead90ff1774f",
     "grade": true,
     "grade_id": "cell-b3181cc311873032",
     "locked": false,
     "points": 5,
     "schema_version": 1,
     "solution": true
    }
   },
   "outputs": [
    {
     "name": "stdout",
     "output_type": "stream",
     "text": [
      "Mean of each column: [0.43347181 0.4838898  0.28438398 0.74326478 0.48644494]\n",
      "Variance of each column: [0.0669559  0.07257752 0.0552073  0.01392508 0.04756005]\n"
     ]
    }
   ],
   "source": [
    "# YOUR CODE HERE\n",
    "import numpy as np\n",
    "\n",
    "# Generate a random 4x5 array\n",
    "a = np.random.rand(4, 5)\n",
    "\n",
    "# Calculate the mean and variance of each column\n",
    "acols_mean = np.mean(a, axis=0)\n",
    "acols_var = np.var(a, axis=0)\n",
    "\n",
    "# Print the results\n",
    "print(\"Mean of each column:\", acols_mean)\n",
    "print(\"Variance of each column:\", acols_var)\n"
   ]
  },
  {
   "cell_type": "markdown",
   "metadata": {},
   "source": [
    "Use numpy to load up the datafile `irisdata.txt`. Also load up the labels that correspond to this file `irislabels.txt`"
   ]
  },
  {
   "cell_type": "code",
   "execution_count": 56,
   "metadata": {
    "deletable": false,
    "nbgrader": {
     "checksum": "69020a45ff75eb10ac1fb01c3a539513",
     "grade": true,
     "grade_id": "cell-37c4167b1c67a374",
     "locked": false,
     "points": 4,
     "schema_version": 1,
     "solution": true
    }
   },
   "outputs": [],
   "source": [
    "# YOUR CODE HERE\n",
    "import numpy as np\n",
    "\n",
    "def load_data():\n",
    "\n",
    "    data = np.loadtxt('irisdata.txt', delimiter=',')\n",
    "    labels = np.loadtxt('irislabels.txt', delimiter=',', dtype=str)\n",
    "    return data, labels\n",
    "\n"
   ]
  },
  {
   "cell_type": "markdown",
   "metadata": {},
   "source": [
    "1. What are the size of the data from the datafile? \n",
    "2. The irislabels file has the labels or classes corresponding to the data what are the sizes of the different classes ?"
   ]
  },
  {
   "cell_type": "code",
   "execution_count": 57,
   "metadata": {
    "deletable": false,
    "nbgrader": {
     "checksum": "34d3137597739aa33bc24b27c4c2bcc2",
     "grade": true,
     "grade_id": "cell-1a3ec6ca5d0c1ee2",
     "locked": false,
     "points": 6,
     "schema_version": 1,
     "solution": true
    }
   },
   "outputs": [
    {
     "name": "stdout",
     "output_type": "stream",
     "text": [
      "The size of the data from the datafile is 150 x 4.\n",
      "The size of 0.000000000000000000e+00 class is 50.\n",
      "The size of 1.000000000000000000e+00 class is 50.\n",
      "The size of 2.000000000000000000e+00 class is 50.\n"
     ]
    }
   ],
   "source": [
    "# YOUR CODE HERE\n",
    "import numpy as np\n",
    "\n",
    "def load_data():\n",
    "\n",
    "    data = np.loadtxt('irisdata.txt', delimiter=',')\n",
    "    labels = np.loadtxt('irislabels.txt', delimiter=',', dtype=str)\n",
    "    return data, labels\n",
    "\n",
    "data, labels = load_data()\n",
    "\n",
    "# Answer to question 1\n",
    "print(f\"The size of the data from the datafile is {data.shape[0]} x {data.shape[1]}.\")\n",
    "\n",
    "# Answer to question 2\n",
    "unique_labels, counts = np.unique(labels, return_counts=True)\n",
    "for i in range(len(unique_labels)):\n",
    "    print(f\"The size of {unique_labels[i]} class is {counts[i]}.\")\n"
   ]
  },
  {
   "cell_type": "markdown",
   "metadata": {},
   "source": [
    "#### Manually building a prototype based classifier"
   ]
  },
  {
   "cell_type": "markdown",
   "metadata": {},
   "source": [
    "A prototype classifier obtains a very good representative of each class - also called a prototype and uses this for the classification task by computing the distance between a test set and the prototypes of each class. We are going to try and build one using this data.\n",
    "\n",
    "To start this we need to split our data into a training and test set. "
   ]
  },
  {
   "cell_type": "code",
   "execution_count": 58,
   "metadata": {
    "deletable": false,
    "nbgrader": {
     "checksum": "cd4e5ea6caf947d4c2d01f08bc56e871",
     "grade": true,
     "grade_id": "cell-87db5de2af7ebdd0",
     "locked": false,
     "points": 5,
     "schema_version": 1,
     "solution": true
    }
   },
   "outputs": [],
   "source": [
    "# YOUR CODE HERE\n",
    "import numpy as np\n",
    "\n",
    "def calculate_distance(x1, x2):\n",
    "\n",
    "    return np.sqrt(np.sum((x1 - x2) ** 2))\n",
    "\n",
    "def build_prototype_classifier(data, labels):\n",
    "    \n",
    "    # Split the data into training and test sets\n",
    "    train_data = data[:100]\n",
    "    test_data = data[100:]\n",
    "    train_labels = labels[:100]\n",
    "    test_labels = labels[100:]\n",
    "\n",
    "    # Calculate the prototypes for each class\n",
    "    prototypes = {}\n",
    "    for label in np.unique(train_labels):\n",
    "        prototypes[label] = np.mean(train_data[train_labels == label], axis=0)\n",
    "        \n",
    "\n",
    "  "
   ]
  },
  {
   "cell_type": "code",
   "execution_count": 60,
   "metadata": {
    "deletable": false,
    "nbgrader": {
     "checksum": "0685f9d161eaf24c536587f7b313ebd0",
     "grade": true,
     "grade_id": "cell-d1a12d347ddd519c",
     "locked": false,
     "points": 3,
     "schema_version": 1,
     "solution": true
    }
   },
   "outputs": [],
   "source": [
    "# YOUR CODE HERE\n",
    "import numpy as np\n",
    "\n",
    "def calculate_distance(x1, x2):\n",
    "\n",
    "    return np.sqrt(np.sum((x1 - x2) ** 2))\n",
    "\n",
    "def build_prototype_classifier(data, labels):\n",
    "    \n",
    "    # Split the data into training and test sets\n",
    "    train_data = data[:100]\n",
    "    test_data = data[100:]\n",
    "    train_labels = labels[:100]\n",
    "    test_labels = labels[100:]\n",
    "  # Classify the test data\n",
    "    predictions = []\n",
    "    for i in range(len(test_data)):\n",
    "        distances = []\n",
    "        for label in prototypes:\n",
    "            distance = calculate_distance(test_data[i], prototypes[label])\n",
    "            distances.append(distance)\n",
    "        predictions.append(list(prototypes.keys())[np.argmin(distances)])\n",
    "\n",
    "    # Calculate the accuracy of the classifier\n",
    "    accuracy = np.mean(predictions == test_labels)\n",
    "\n",
    "    # Print the accuracy of the classifier\n",
    "    print(f\"The accuracy of the prototype-based classifier is {accuracy:.2f}.\")\n",
    "\n",
    "    # Return the prototypes for each class\n",
    "    return prototypes\n"
   ]
  },
  {
   "cell_type": "markdown",
   "metadata": {},
   "source": [
    "Now we want to get the prototypes. This process can be complicated but for now lets just get the average of each of the data examples representing each class. "
   ]
  },
  {
   "cell_type": "code",
   "execution_count": 62,
   "metadata": {
    "deletable": false,
    "nbgrader": {
     "checksum": "b0ceb731669e0f6234413308f484b39b",
     "grade": true,
     "grade_id": "cell-da768715c85fff5e",
     "locked": false,
     "points": 5,
     "schema_version": 1,
     "solution": true
    }
   },
   "outputs": [],
   "source": [
    "# YOUR CODE HERE\n",
    "import numpy as np\n",
    "\n",
    "def build_prototype_classifier(data, labels):\n",
    "\n",
    "    # Split the data into training and test sets\n",
    "    train_data = data[:100]\n",
    "    test_data = data[100:]\n",
    "    train_labels = labels[:100]\n",
    "    test_labels = labels[100:]\n",
    "\n",
    "    # Calculate the prototypes for each class\n",
    "    prototypes = {}\n",
    "    for label in np.unique(train_labels):\n",
    "        prototypes[label] = np.mean(train_data[train_labels == label], axis=0)\n",
    "        print(f\"The prototype for {label} class is {prototypes[label]}.\")\n",
    "\n",
    "    # Return the prototypes for each class\n",
    "    return prototypes\n",
    "\n"
   ]
  },
  {
   "cell_type": "code",
   "execution_count": 63,
   "metadata": {
    "deletable": false,
    "nbgrader": {
     "checksum": "a7955d490d0430899387721bd6f2642b",
     "grade": true,
     "grade_id": "cell-b5036749ed4bcf76",
     "locked": false,
     "points": 3,
     "schema_version": 1,
     "solution": true
    }
   },
   "outputs": [],
   "source": [
    "# YOUR CODE HERE\n",
    "import numpy as np\n",
    "\n",
    "def build_prototype_classifier(data, labels):\n",
    "\n",
    "    # Split the data into training and test sets\n",
    "    train_data = data[:100]\n",
    "    test_data = data[100:]\n",
    "    train_labels = labels[:100]\n",
    "    test_labels = labels[100:]\n",
    "\n",
    "    # Calculate the prototypes for each class\n",
    "    prototypes = {}\n",
    "    for label in np.unique(train_labels):\n",
    "        prototypes[label] = np.mean(train_data[train_labels == label], axis=0)\n",
    "        print(f\"The prototype for {label} class is {prototypes[label]}.\")\n",
    "\n",
    "    # Return the prototypes for each class\n",
    "    return prototypes\n"
   ]
  },
  {
   "cell_type": "markdown",
   "metadata": {},
   "source": [
    "Now lets see how well your algorithm performs"
   ]
  },
  {
   "cell_type": "code",
   "execution_count": 66,
   "metadata": {
    "deletable": false,
    "nbgrader": {
     "checksum": "bdc0d11fb081d718c16b7ee108cd7274",
     "grade": true,
     "grade_id": "cell-55fcc77e8583f3d7",
     "locked": false,
     "points": 3,
     "schema_version": 1,
     "solution": true
    }
   },
   "outputs": [],
   "source": [
    "# YOUR CODE HERE\n",
    "#for training set\n",
    "import numpy as np\n",
    "\n",
    "def calculate_distance(x1, x2):\n",
    "\n",
    "    return np.sqrt(np.sum((x1 - x2) ** 2))\n",
    "\n",
    "def build_prototype_classifier(data, labels):\n",
    "\n",
    "    # Split the data into training and test sets\n",
    "    train_data = data[:100]\n",
    "    test_data = data[100:]\n",
    "    train_labels = labels[:100]\n",
    "    test_labels = labels[100:]\n",
    "\n",
    "    # Calculate the prototypes for each class\n",
    "    prototypes = {}\n",
    "    for label in np.unique(train_labels):\n",
    "        prototypes[label] = np.mean(train_data[train_labels == label], axis=0)\n",
    "\n",
    "    # Classify the training data\n",
    "    predictions = []\n",
    "    for i in range(len(train_data)):\n",
    "        distances = []\n",
    "        for label in prototypes:\n",
    "            distance = calculate_distance(train_data[i], prototypes[label])\n",
    "            distances.append(distance)\n",
    "        predictions.append(list(prototypes.keys())[np.argmin(distances)])\n",
    "\n",
    "    # Calculate the accuracy of the classifier\n",
    "    accuracy = np.mean(predictions == train_labels)\n",
    "\n",
    "    # Print the accuracy of the classifier\n",
    "    print(f\"The accuracy of the prototype-based classifier on the training set is {accuracy:.2f}.\")\n",
    "\n",
    "    # Return the prototypes for each class\n",
    "    return prototypes\n"
   ]
  },
  {
   "cell_type": "code",
   "execution_count": 67,
   "metadata": {
    "deletable": false,
    "nbgrader": {
     "checksum": "a3da3b90246133bca9acaa475563faac",
     "grade": true,
     "grade_id": "cell-b8ca262a964f59e3",
     "locked": false,
     "points": 2,
     "schema_version": 1,
     "solution": true
    }
   },
   "outputs": [],
   "source": [
    "# YOUR CODE HERE\n",
    "#for testing set\n",
    "import numpy as np\n",
    "\n",
    "def calculate_distance(x1, x2):\n",
    "    \n",
    "    return np.sqrt(np.sum((x1 - x2) ** 2))\n",
    "\n",
    "def build_prototype_classifier(data, labels):\n",
    "    \n",
    "    # Split the data into training and test sets\n",
    "    train_data = data[:100]\n",
    "    test_data = data[100:]\n",
    "    train_labels = labels[:100]\n",
    "    test_labels = labels[100:]\n",
    "\n",
    "    # Calculate the prototypes for each class\n",
    "    prototypes = {}\n",
    "    for label in np.unique(train_labels):\n",
    "        prototypes[label] = np.mean(train_data[train_labels == label], axis=0)\n",
    "\n",
    "    # Classify the testing data\n",
    "    predictions = []\n",
    "    for i in range(len(test_data)):\n",
    "        distances = []\n",
    "        for label in prototypes:\n",
    "            distance = calculate_distance(test_data[i], prototypes[label])\n",
    "            distances.append(distance)\n",
    "        predictions.append(list(prototypes.keys())[np.argmin(distances)])\n",
    "\n",
    "    # Calculate the accuracy of the classifier\n",
    "    accuracy = np.mean(predictions == test_labels)\n",
    "\n",
    "    # Print the accuracy of the classifier\n",
    "    print(f\"The accuracy of the prototype-based classifier on the testing set is {accuracy:.2f}.\")\n",
    "\n",
    "    # Return the prototypes for each class\n",
    "    return prototypes\n"
   ]
  },
  {
   "cell_type": "markdown",
   "metadata": {},
   "source": [
    "### Part C: Pandas - some data analytics tasks"
   ]
  },
  {
   "cell_type": "markdown",
   "metadata": {},
   "source": [
    "Load the dataset `uganda_produce.csv` using pandas `pandas.read_csv`"
   ]
  },
  {
   "cell_type": "code",
   "execution_count": 68,
   "metadata": {
    "deletable": false,
    "nbgrader": {
     "checksum": "4491a98690fcb1d1f5c07e747be150e1",
     "grade": true,
     "grade_id": "cell-071d8da9c5fe0afe",
     "locked": false,
     "points": 4,
     "schema_version": 1,
     "solution": true
    }
   },
   "outputs": [
    {
     "name": "stdout",
     "output_type": "stream",
     "text": [
      "  country     item         element Unit                  Date     Value\n",
      "0  Uganda  Bananas  Area Harvested   Ha  1/1/2003 12:00:00 AM  140323.0\n",
      "1  Uganda  Bananas  Area Harvested   Ha  1/1/2004 12:00:00 AM  141083.0\n",
      "2  Uganda  Bananas  Area Harvested   Ha  1/1/2005 12:00:00 AM  141505.0\n",
      "3  Uganda  Bananas  Area Harvested   Ha  1/1/2006 12:00:00 AM  141674.0\n",
      "4  Uganda  Bananas  Area Harvested   Ha  1/1/2007 12:00:00 AM  141758.0\n"
     ]
    }
   ],
   "source": [
    "# YOUR CODE HERE\n",
    "import pandas as pd\n",
    "\n",
    "# Load the dataset\n",
    "data = pd.read_csv(\"uganda_produce.csv\")\n",
    "\n",
    "# Print the first few rows to verify loading\n",
    "print(data.head())\n"
   ]
  },
  {
   "cell_type": "markdown",
   "metadata": {},
   "source": [
    "**Questions**\n",
    "\n",
    "1. How many unique items are there in the dataset (Hint: you may want to investigate the `unique` method of pandas)\n",
    "3. Of these products [sweet potatoes, beans and cassava] which had the highest yield overall ? What about for the year 2006 alone ?\n",
    "2. Which commodity(item) overall had the highest area harvested ?\n",
    "4. Plot the trend of area harvested for bananas over the years"
   ]
  },
  {
   "cell_type": "code",
   "execution_count": 69,
   "metadata": {
    "deletable": false,
    "nbgrader": {
     "checksum": "2c84efbab0ab2fcc01b1c0ac7c3bf0ac",
     "grade": true,
     "grade_id": "cell-7f2ad888dd4f4214",
     "locked": false,
     "points": 1,
     "schema_version": 1,
     "solution": true
    }
   },
   "outputs": [
    {
     "name": "stdout",
     "output_type": "stream",
     "text": [
      "Number of unique items: 59\n",
      "Unique items:\n",
      " ['Bananas' 'Beans, dry' 'Cassava' 'Castor oil seed'\n",
      " 'Cereals (Rice Milled Eqv + (Total)' 'Cereals,Total + (Total)'\n",
      " 'Chick peas' 'Chillies and peppers, dry' 'Coarse Grain, Total + (Total)'\n",
      " 'Cocoa beans' 'Coffee, green' 'Cow peas, dry'\n",
      " 'Fibre Crops Primary + (Total)' 'Fruit excl Melons,Total + (Total)'\n",
      " 'Fruit Fresh Nes' 'Fruit Primary' 'Ginger' 'Groundnuts, with shell'\n",
      " 'Maize' 'Millet' 'Oilcakes Equivalent + (Total)'\n",
      " 'Oilcrops Primary + (Total)' 'Oilseeds, Nes' 'Onions, dry' 'Peas, dry'\n",
      " 'Pepper (Piper spp.)' 'Pigeon peas' 'Pineapples' 'Plantains' 'Potatoes'\n",
      " 'Pulses,Total + (Total)' 'Rice, paddy' 'Roots and Tubers,Total + (Total)'\n",
      " 'Seed cotton' 'Sesame seed' 'Sisal' 'Sorghum' 'Soybeans' 'Sugar cane'\n",
      " 'Sunflower seed' 'Sweet potatoes' 'Tea' 'Tobacco, unmanufactured'\n",
      " 'Tomatoes' 'Vanilla' 'Vegetables fresh nes'\n",
      " 'Vegetables Primary + (Total)' 'Vegetables&Melons, Total + (Total)'\n",
      " 'Wheat' 'Beer of Barley' 'Cotton lint' 'Cottonseed' 'Cottonseed oil'\n",
      " 'Groundnut oil' 'Molasses' 'Sesame oil' 'Soybean oil'\n",
      " 'Sugar Raw Centrifugal' 'Sunflower oil']\n"
     ]
    }
   ],
   "source": [
    "# YOUR CODE HERE\n",
    "import pandas as pd\n",
    "\n",
    "# Load the dataset\n",
    "data = pd.read_csv(\"uganda_produce.csv\")\n",
    "\n",
    "# Assuming the item names are in a column named \"item\":\n",
    "item_column = \"item\"  # Replace with the actual column name if different\n",
    "\n",
    "# Count unique items\n",
    "unique_items = data[item_column].unique()\n",
    "num_unique_items = len(unique_items)\n",
    "\n",
    "print(\"Number of unique items:\", num_unique_items)\n",
    "print(\"Unique items:\\n\", unique_items)\n"
   ]
  },
  {
   "cell_type": "code",
   "execution_count": 134,
   "metadata": {
    "deletable": false,
    "nbgrader": {
     "checksum": "fb81eacd538fb29112d0a55d085f3266",
     "grade": true,
     "grade_id": "cell-627284a78066ae4f",
     "locked": false,
     "points": 2,
     "schema_version": 1,
     "solution": true
    }
   },
   "outputs": [
    {
     "name": "stdout",
     "output_type": "stream",
     "text": [
      "Index(['country', 'item', 'element', 'Unit', 'Date', 'Value'], dtype='object')\n"
     ]
    },
    {
     "ename": "KeyError",
     "evalue": "'Item'",
     "output_type": "error",
     "traceback": [
      "\u001b[1;31m---------------------------------------------------------------------------\u001b[0m",
      "\u001b[1;31mKeyError\u001b[0m                                  Traceback (most recent call last)",
      "File \u001b[1;32m~\\anaconda3\\Lib\\site-packages\\pandas\\core\\indexes\\base.py:3653\u001b[0m, in \u001b[0;36mIndex.get_loc\u001b[1;34m(self, key)\u001b[0m\n\u001b[0;32m   3652\u001b[0m \u001b[38;5;28;01mtry\u001b[39;00m:\n\u001b[1;32m-> 3653\u001b[0m     \u001b[38;5;28;01mreturn\u001b[39;00m \u001b[38;5;28mself\u001b[39m\u001b[38;5;241m.\u001b[39m_engine\u001b[38;5;241m.\u001b[39mget_loc(casted_key)\n\u001b[0;32m   3654\u001b[0m \u001b[38;5;28;01mexcept\u001b[39;00m \u001b[38;5;167;01mKeyError\u001b[39;00m \u001b[38;5;28;01mas\u001b[39;00m err:\n",
      "File \u001b[1;32m~\\anaconda3\\Lib\\site-packages\\pandas\\_libs\\index.pyx:147\u001b[0m, in \u001b[0;36mpandas._libs.index.IndexEngine.get_loc\u001b[1;34m()\u001b[0m\n",
      "File \u001b[1;32m~\\anaconda3\\Lib\\site-packages\\pandas\\_libs\\index.pyx:176\u001b[0m, in \u001b[0;36mpandas._libs.index.IndexEngine.get_loc\u001b[1;34m()\u001b[0m\n",
      "File \u001b[1;32mpandas\\_libs\\hashtable_class_helper.pxi:7080\u001b[0m, in \u001b[0;36mpandas._libs.hashtable.PyObjectHashTable.get_item\u001b[1;34m()\u001b[0m\n",
      "File \u001b[1;32mpandas\\_libs\\hashtable_class_helper.pxi:7088\u001b[0m, in \u001b[0;36mpandas._libs.hashtable.PyObjectHashTable.get_item\u001b[1;34m()\u001b[0m\n",
      "\u001b[1;31mKeyError\u001b[0m: 'Item'",
      "\nThe above exception was the direct cause of the following exception:\n",
      "\u001b[1;31mKeyError\u001b[0m                                  Traceback (most recent call last)",
      "Cell \u001b[1;32mIn[134], line 12\u001b[0m\n\u001b[0;32m     10\u001b[0m \u001b[38;5;66;03m# Update the column names if needed\u001b[39;00m\n\u001b[0;32m     11\u001b[0m selected_products \u001b[38;5;241m=\u001b[39m [\u001b[38;5;124m'\u001b[39m\u001b[38;5;124mSweet Potatoes\u001b[39m\u001b[38;5;124m'\u001b[39m, \u001b[38;5;124m'\u001b[39m\u001b[38;5;124mBeans\u001b[39m\u001b[38;5;124m'\u001b[39m, \u001b[38;5;124m'\u001b[39m\u001b[38;5;124mCassava\u001b[39m\u001b[38;5;124m'\u001b[39m]\n\u001b[1;32m---> 12\u001b[0m filtered_data \u001b[38;5;241m=\u001b[39m data[data[\u001b[38;5;124m'\u001b[39m\u001b[38;5;124mItem\u001b[39m\u001b[38;5;124m'\u001b[39m]\u001b[38;5;241m.\u001b[39misin(selected_products)]\n\u001b[0;32m     14\u001b[0m \u001b[38;5;66;03m# Overall highest yield\u001b[39;00m\n\u001b[0;32m     15\u001b[0m overall_highest_yield \u001b[38;5;241m=\u001b[39m filtered_data\u001b[38;5;241m.\u001b[39mgroupby(\u001b[38;5;124m'\u001b[39m\u001b[38;5;124mItem\u001b[39m\u001b[38;5;124m'\u001b[39m)[\u001b[38;5;124m'\u001b[39m\u001b[38;5;124mValue\u001b[39m\u001b[38;5;124m'\u001b[39m]\u001b[38;5;241m.\u001b[39msum()\u001b[38;5;241m.\u001b[39midxmax()\n",
      "File \u001b[1;32m~\\anaconda3\\Lib\\site-packages\\pandas\\core\\frame.py:3761\u001b[0m, in \u001b[0;36mDataFrame.__getitem__\u001b[1;34m(self, key)\u001b[0m\n\u001b[0;32m   3759\u001b[0m \u001b[38;5;28;01mif\u001b[39;00m \u001b[38;5;28mself\u001b[39m\u001b[38;5;241m.\u001b[39mcolumns\u001b[38;5;241m.\u001b[39mnlevels \u001b[38;5;241m>\u001b[39m \u001b[38;5;241m1\u001b[39m:\n\u001b[0;32m   3760\u001b[0m     \u001b[38;5;28;01mreturn\u001b[39;00m \u001b[38;5;28mself\u001b[39m\u001b[38;5;241m.\u001b[39m_getitem_multilevel(key)\n\u001b[1;32m-> 3761\u001b[0m indexer \u001b[38;5;241m=\u001b[39m \u001b[38;5;28mself\u001b[39m\u001b[38;5;241m.\u001b[39mcolumns\u001b[38;5;241m.\u001b[39mget_loc(key)\n\u001b[0;32m   3762\u001b[0m \u001b[38;5;28;01mif\u001b[39;00m is_integer(indexer):\n\u001b[0;32m   3763\u001b[0m     indexer \u001b[38;5;241m=\u001b[39m [indexer]\n",
      "File \u001b[1;32m~\\anaconda3\\Lib\\site-packages\\pandas\\core\\indexes\\base.py:3655\u001b[0m, in \u001b[0;36mIndex.get_loc\u001b[1;34m(self, key)\u001b[0m\n\u001b[0;32m   3653\u001b[0m     \u001b[38;5;28;01mreturn\u001b[39;00m \u001b[38;5;28mself\u001b[39m\u001b[38;5;241m.\u001b[39m_engine\u001b[38;5;241m.\u001b[39mget_loc(casted_key)\n\u001b[0;32m   3654\u001b[0m \u001b[38;5;28;01mexcept\u001b[39;00m \u001b[38;5;167;01mKeyError\u001b[39;00m \u001b[38;5;28;01mas\u001b[39;00m err:\n\u001b[1;32m-> 3655\u001b[0m     \u001b[38;5;28;01mraise\u001b[39;00m \u001b[38;5;167;01mKeyError\u001b[39;00m(key) \u001b[38;5;28;01mfrom\u001b[39;00m \u001b[38;5;21;01merr\u001b[39;00m\n\u001b[0;32m   3656\u001b[0m \u001b[38;5;28;01mexcept\u001b[39;00m \u001b[38;5;167;01mTypeError\u001b[39;00m:\n\u001b[0;32m   3657\u001b[0m     \u001b[38;5;66;03m# If we have a listlike key, _check_indexing_error will raise\u001b[39;00m\n\u001b[0;32m   3658\u001b[0m     \u001b[38;5;66;03m#  InvalidIndexError. Otherwise we fall through and re-raise\u001b[39;00m\n\u001b[0;32m   3659\u001b[0m     \u001b[38;5;66;03m#  the TypeError.\u001b[39;00m\n\u001b[0;32m   3660\u001b[0m     \u001b[38;5;28mself\u001b[39m\u001b[38;5;241m.\u001b[39m_check_indexing_error(key)\n",
      "\u001b[1;31mKeyError\u001b[0m: 'Item'"
     ]
    }
   ],
   "source": [
    "# YOUR CODE HERE\n",
    "import pandas as pd\n",
    "# Load the dataset\n",
    "data = pd.read_csv(\"uganda_produce.csv\")\n",
    "\n",
    "# Assuming your DataFrame is named 'data'\n",
    "# Check the column names\n",
    "print(data.columns)\n",
    "\n",
    "# Update the column names if needed\n",
    "selected_products = ['Sweet Potatoes', 'Beans', 'Cassava']\n",
    "filtered_data = data[data['Item'].isin(selected_products)]\n",
    "\n",
    "# Overall highest yield\n",
    "overall_highest_yield = filtered_data.groupby('Item')['Value'].sum().idxmax()\n",
    "overall_yield_value = filtered_data.groupby('Item')['Value'].sum().max()\n",
    "\n",
    "print(f\"Overall highest yield: {overall_highest_yield} with a yield of {overall_yield_value}\")\n",
    "\n",
    "# For the year 2006\n",
    "year_2006_data = filtered_data[data['Date'].str.contains('2006')]\n",
    "highest_yield_2006 = year_2006_data.groupby('Item')['Value'].sum().idxmax()\n",
    "yield_value_2006 = year_2006_data.groupby('Item')['Value'].sum().max()\n",
    "\n",
    "print(f\"Highest yield in 2006: {highest_yield_2006} with a yield of {yield_value_2006}\")\n"
   ]
  },
  {
   "cell_type": "code",
   "execution_count": 74,
   "metadata": {
    "deletable": false,
    "nbgrader": {
     "checksum": "c1ce58edf6a600c330752e7c91b7589e",
     "grade": true,
     "grade_id": "cell-7d6a7ea4969781d7",
     "locked": false,
     "points": 2,
     "schema_version": 1,
     "solution": true
    }
   },
   "outputs": [
    {
     "name": "stdout",
     "output_type": "stream",
     "text": [
      "Index([0, 1, 2, 3, 4, 5], dtype='int64')\n"
     ]
    },
    {
     "ename": "KeyError",
     "evalue": "'ActualAreaColumnName'",
     "output_type": "error",
     "traceback": [
      "\u001b[1;31m---------------------------------------------------------------------------\u001b[0m",
      "\u001b[1;31mKeyError\u001b[0m                                  Traceback (most recent call last)",
      "File \u001b[1;32m~\\anaconda3\\Lib\\site-packages\\pandas\\core\\indexes\\base.py:3653\u001b[0m, in \u001b[0;36mIndex.get_loc\u001b[1;34m(self, key)\u001b[0m\n\u001b[0;32m   3652\u001b[0m \u001b[38;5;28;01mtry\u001b[39;00m:\n\u001b[1;32m-> 3653\u001b[0m     \u001b[38;5;28;01mreturn\u001b[39;00m \u001b[38;5;28mself\u001b[39m\u001b[38;5;241m.\u001b[39m_engine\u001b[38;5;241m.\u001b[39mget_loc(casted_key)\n\u001b[0;32m   3654\u001b[0m \u001b[38;5;28;01mexcept\u001b[39;00m \u001b[38;5;167;01mKeyError\u001b[39;00m \u001b[38;5;28;01mas\u001b[39;00m err:\n",
      "File \u001b[1;32m~\\anaconda3\\Lib\\site-packages\\pandas\\_libs\\index.pyx:147\u001b[0m, in \u001b[0;36mpandas._libs.index.IndexEngine.get_loc\u001b[1;34m()\u001b[0m\n",
      "File \u001b[1;32m~\\anaconda3\\Lib\\site-packages\\pandas\\_libs\\index.pyx:155\u001b[0m, in \u001b[0;36mpandas._libs.index.IndexEngine.get_loc\u001b[1;34m()\u001b[0m\n",
      "File \u001b[1;32mpandas\\_libs\\index_class_helper.pxi:70\u001b[0m, in \u001b[0;36mpandas._libs.index.Int64Engine._check_type\u001b[1;34m()\u001b[0m\n",
      "\u001b[1;31mKeyError\u001b[0m: 'ActualAreaColumnName'",
      "\nThe above exception was the direct cause of the following exception:\n",
      "\u001b[1;31mKeyError\u001b[0m                                  Traceback (most recent call last)",
      "Cell \u001b[1;32mIn[74], line 18\u001b[0m\n\u001b[0;32m     13\u001b[0m correct_area_column_name \u001b[38;5;241m=\u001b[39m \u001b[38;5;124m\"\u001b[39m\u001b[38;5;124mActualAreaColumnName\u001b[39m\u001b[38;5;124m\"\u001b[39m  \u001b[38;5;66;03m# Replace with correct name\u001b[39;00m\n\u001b[0;32m     15\u001b[0m \u001b[38;5;66;03m# --- Find the commodity with the highest area harvested overall ---\u001b[39;00m\n\u001b[0;32m     16\u001b[0m \n\u001b[0;32m     17\u001b[0m \u001b[38;5;66;03m# Get the maximum area harvested across all years\u001b[39;00m\n\u001b[1;32m---> 18\u001b[0m max_area_overall \u001b[38;5;241m=\u001b[39m data[correct_area_column_name]\u001b[38;5;241m.\u001b[39mmax()\n\u001b[0;32m     20\u001b[0m \u001b[38;5;66;03m# Get the commodity with the highest area harvested overall\u001b[39;00m\n\u001b[0;32m     21\u001b[0m commodity_highest_area \u001b[38;5;241m=\u001b[39m data\u001b[38;5;241m.\u001b[39mloc[data[correct_area_column_name] \u001b[38;5;241m==\u001b[39m max_area_overall, correct_item_column_name]\u001b[38;5;241m.\u001b[39mvalues[\u001b[38;5;241m0\u001b[39m]\n",
      "File \u001b[1;32m~\\anaconda3\\Lib\\site-packages\\pandas\\core\\frame.py:3761\u001b[0m, in \u001b[0;36mDataFrame.__getitem__\u001b[1;34m(self, key)\u001b[0m\n\u001b[0;32m   3759\u001b[0m \u001b[38;5;28;01mif\u001b[39;00m \u001b[38;5;28mself\u001b[39m\u001b[38;5;241m.\u001b[39mcolumns\u001b[38;5;241m.\u001b[39mnlevels \u001b[38;5;241m>\u001b[39m \u001b[38;5;241m1\u001b[39m:\n\u001b[0;32m   3760\u001b[0m     \u001b[38;5;28;01mreturn\u001b[39;00m \u001b[38;5;28mself\u001b[39m\u001b[38;5;241m.\u001b[39m_getitem_multilevel(key)\n\u001b[1;32m-> 3761\u001b[0m indexer \u001b[38;5;241m=\u001b[39m \u001b[38;5;28mself\u001b[39m\u001b[38;5;241m.\u001b[39mcolumns\u001b[38;5;241m.\u001b[39mget_loc(key)\n\u001b[0;32m   3762\u001b[0m \u001b[38;5;28;01mif\u001b[39;00m is_integer(indexer):\n\u001b[0;32m   3763\u001b[0m     indexer \u001b[38;5;241m=\u001b[39m [indexer]\n",
      "File \u001b[1;32m~\\anaconda3\\Lib\\site-packages\\pandas\\core\\indexes\\base.py:3655\u001b[0m, in \u001b[0;36mIndex.get_loc\u001b[1;34m(self, key)\u001b[0m\n\u001b[0;32m   3653\u001b[0m     \u001b[38;5;28;01mreturn\u001b[39;00m \u001b[38;5;28mself\u001b[39m\u001b[38;5;241m.\u001b[39m_engine\u001b[38;5;241m.\u001b[39mget_loc(casted_key)\n\u001b[0;32m   3654\u001b[0m \u001b[38;5;28;01mexcept\u001b[39;00m \u001b[38;5;167;01mKeyError\u001b[39;00m \u001b[38;5;28;01mas\u001b[39;00m err:\n\u001b[1;32m-> 3655\u001b[0m     \u001b[38;5;28;01mraise\u001b[39;00m \u001b[38;5;167;01mKeyError\u001b[39;00m(key) \u001b[38;5;28;01mfrom\u001b[39;00m \u001b[38;5;21;01merr\u001b[39;00m\n\u001b[0;32m   3656\u001b[0m \u001b[38;5;28;01mexcept\u001b[39;00m \u001b[38;5;167;01mTypeError\u001b[39;00m:\n\u001b[0;32m   3657\u001b[0m     \u001b[38;5;66;03m# If we have a listlike key, _check_indexing_error will raise\u001b[39;00m\n\u001b[0;32m   3658\u001b[0m     \u001b[38;5;66;03m#  InvalidIndexError. Otherwise we fall through and re-raise\u001b[39;00m\n\u001b[0;32m   3659\u001b[0m     \u001b[38;5;66;03m#  the TypeError.\u001b[39;00m\n\u001b[0;32m   3660\u001b[0m     \u001b[38;5;28mself\u001b[39m\u001b[38;5;241m.\u001b[39m_check_indexing_error(key)\n",
      "\u001b[1;31mKeyError\u001b[0m: 'ActualAreaColumnName'"
     ]
    }
   ],
   "source": [
    "# YOUR CODE HERE\n"
   ]
  },
  {
   "cell_type": "code",
   "execution_count": 82,
   "metadata": {
    "deletable": false,
    "nbgrader": {
     "checksum": "0ea996b486eda108249230fae43fd498",
     "grade": true,
     "grade_id": "cell-84618533f475324e",
     "locked": false,
     "points": 5,
     "schema_version": 1,
     "solution": true
    }
   },
   "outputs": [
    {
     "name": "stderr",
     "output_type": "stream",
     "text": [
      "C:\\Users\\Prisca Makidika\\AppData\\Local\\Temp\\ipykernel_12864\\3599930684.py:7: UserWarning: Could not infer format, so each element will be parsed individually, falling back to `dateutil`. To ensure parsing is consistent and as-expected, please specify a format.\n",
      "  data['Date'] = pd.to_datetime(data['Date'])\n"
     ]
    },
    {
     "data": {
      "image/png": "[encoded data removed]",
      "text/plain": [
       "<Figure size 1000x600 with 1 Axes>"
      ]
     },
     "metadata": {},
     "output_type": "display_data"
    }
   ],
   "source": [
    "# YOUR CODE HERE\n",
    "import pandas as pd\n",
    "import matplotlib.pyplot as plt\n",
    "\n",
    "# Assuming your DataFrame is named 'data'\n",
    "# Convert the 'Date' column to datetime format\n",
    "data['Date'] = pd.to_datetime(data['Date'])\n",
    "\n",
    "# Filter data for bananas\n",
    "bananas_data = data[data['item'] == 'Bananas']\n",
    "\n",
    "# Group by year and sum the area harvested\n",
    "area_harvested_trend = bananas_data.groupby(data['Date'].dt.year)['Value'].sum()\n",
    "\n",
    "# Plotting the trend\n",
    "plt.figure(figsize=(10, 6))\n",
    "plt.plot(area_harvested_trend.index, area_harvested_trend.values, marker='o')\n",
    "plt.title('Area Harvested for Bananas Over the Years')\n",
    "plt.xlabel('Year')\n",
    "plt.ylabel('Area Harvested (Ha)')\n",
    "plt.grid(True)\n",
    "plt.show()\n"
   ]
  },
  {
   "cell_type": "code",
   "execution_count": null,
   "metadata": {},
   "outputs": [],
   "source": []
  }
 ],
 "metadata": {
  "kernelspec": {
   "display_name": "Python 3 (ipykernel)",
   "language": "python",
   "name": "python3"
  },
  "language_info": {
   "codemirror_mode": {
    "name": "ipython",
    "version": 3
   },
   "file_extension": ".py",
   "mimetype": "text/x-python",
   "name": "python",
   "nbconvert_exporter": "python",
   "pygments_lexer": "ipython3",
   "version": "3.11.5"
  }
 },
 "nbformat": 4,
 "nbformat_minor": 4
}
